{
 "cells": [
  {
   "cell_type": "markdown",
   "metadata": {},
   "source": [
    "# Basic Math"
   ]
  },
  {
   "cell_type": "markdown",
   "metadata": {},
   "source": [
    "## imports"
   ]
  },
  {
   "cell_type": "code",
   "execution_count": 55,
   "metadata": {},
   "outputs": [],
   "source": [
    "from numpy import arange, array"
   ]
  },
  {
   "cell_type": "markdown",
   "metadata": {},
   "source": [
    "## Exercise 1\n"
   ]
  },
  {
   "cell_type": "code",
   "execution_count": 56,
   "metadata": {
    "collapsed": false,
    "jupyter": {
     "outputs_hidden": false
    }
   },
   "outputs": [],
   "source": [
    "u = array([1.0, 1, 2, 3, 5, 8])\n",
    "v = array([[1.0], [1], [2], [3], [5], [8]])\n",
    "x = array([[1.0, 0], [0, 1]])\n",
    "y = array([[1.0, 2], [3, 4]])\n",
    "z = array([[1.0, 2, 1, 2], [3, 4, 3, 4], [1, 2, 1, 3]])\n",
    "w = array([[1.0, 0, 1, 0], [0, 1, 0, 1], [1, 2, 1, 2], [3, 4, 3, 4]])"
   ]
  },
  {
   "cell_type": "code",
   "execution_count": 57,
   "metadata": {
    "collapsed": false,
    "jupyter": {
     "outputs_hidden": false
    },
    "pycharm": {
     "name": "#%%\n"
    }
   },
   "outputs": [
    {
     "name": "stdout",
     "output_type": "stream",
     "text": [
      "u+v.T:\n"
     ]
    },
    {
     "data": {
      "text/plain": [
       "array([[ 2.,  2.,  4.,  6., 10., 16.]])"
      ]
     },
     "execution_count": 57,
     "metadata": {},
     "output_type": "execute_result"
    }
   ],
   "source": [
    "print(\"u+v.T:\")\n",
    "u + v.T"
   ]
  },
  {
   "cell_type": "code",
   "execution_count": 58,
   "metadata": {
    "collapsed": false,
    "jupyter": {
     "outputs_hidden": false
    },
    "pycharm": {
     "name": "#%%\n"
    }
   },
   "outputs": [
    {
     "name": "stdout",
     "output_type": "stream",
     "text": [
      "v+u:\n"
     ]
    },
    {
     "data": {
      "text/plain": [
       "array([[ 2.,  2.,  3.,  4.,  6.,  9.],\n",
       "       [ 2.,  2.,  3.,  4.,  6.,  9.],\n",
       "       [ 3.,  3.,  4.,  5.,  7., 10.],\n",
       "       [ 4.,  4.,  5.,  6.,  8., 11.],\n",
       "       [ 6.,  6.,  7.,  8., 10., 13.],\n",
       "       [ 9.,  9., 10., 11., 13., 16.]])"
      ]
     },
     "execution_count": 58,
     "metadata": {},
     "output_type": "execute_result"
    }
   ],
   "source": [
    "print(\"v+u:\")\n",
    "v + u"
   ]
  },
  {
   "cell_type": "code",
   "execution_count": 59,
   "metadata": {
    "collapsed": false,
    "jupyter": {
     "outputs_hidden": false
    },
    "pycharm": {
     "name": "#%%\n"
    }
   },
   "outputs": [
    {
     "name": "stdout",
     "output_type": "stream",
     "text": [
      "v+u.T :\n"
     ]
    },
    {
     "data": {
      "text/plain": [
       "array([[ 2.,  2.,  3.,  4.,  6.,  9.],\n",
       "       [ 2.,  2.,  3.,  4.,  6.,  9.],\n",
       "       [ 3.,  3.,  4.,  5.,  7., 10.],\n",
       "       [ 4.,  4.,  5.,  6.,  8., 11.],\n",
       "       [ 6.,  6.,  7.,  8., 10., 13.],\n",
       "       [ 9.,  9., 10., 11., 13., 16.]])"
      ]
     },
     "execution_count": 59,
     "metadata": {},
     "output_type": "execute_result"
    }
   ],
   "source": [
    "print(\"v+u.T :\")\n",
    "v + u.T"
   ]
  },
  {
   "cell_type": "code",
   "execution_count": 60,
   "metadata": {
    "collapsed": false,
    "jupyter": {
     "outputs_hidden": false
    },
    "pycharm": {
     "name": "#%%\n"
    }
   },
   "outputs": [
    {
     "data": {
      "text/plain": [
       "array([[1., 1., 2., 3., 5., 8.]])"
      ]
     },
     "execution_count": 60,
     "metadata": {},
     "output_type": "execute_result"
    }
   ],
   "source": [
    "u.shape = 1, 6\n",
    "u"
   ]
  },
  {
   "cell_type": "code",
   "execution_count": 61,
   "metadata": {
    "collapsed": false,
    "jupyter": {
     "outputs_hidden": false
    },
    "pycharm": {
     "name": "#%%\n"
    }
   },
   "outputs": [
    {
     "name": "stdout",
     "output_type": "stream",
     "text": [
      "v@u:\n"
     ]
    },
    {
     "data": {
      "text/plain": [
       "array([[ 1.,  1.,  2.,  3.,  5.,  8.],\n",
       "       [ 1.,  1.,  2.,  3.,  5.,  8.],\n",
       "       [ 2.,  2.,  4.,  6., 10., 16.],\n",
       "       [ 3.,  3.,  6.,  9., 15., 24.],\n",
       "       [ 5.,  5., 10., 15., 25., 40.],\n",
       "       [ 8.,  8., 16., 24., 40., 64.]])"
      ]
     },
     "execution_count": 61,
     "metadata": {},
     "output_type": "execute_result"
    }
   ],
   "source": [
    "print(\"v@u:\")\n",
    "v @ u"
   ]
  },
  {
   "cell_type": "code",
   "execution_count": 62,
   "metadata": {
    "collapsed": false,
    "jupyter": {
     "outputs_hidden": false
    },
    "pycharm": {
     "name": "#%%\n"
    }
   },
   "outputs": [
    {
     "name": "stdout",
     "output_type": "stream",
     "text": [
      "u@v:\n"
     ]
    },
    {
     "data": {
      "text/plain": [
       "array([[104.]])"
      ]
     },
     "execution_count": 62,
     "metadata": {},
     "output_type": "execute_result"
    }
   ],
   "source": [
    "print(\"u@v:\")\n",
    "u @ v"
   ]
  },
  {
   "cell_type": "code",
   "execution_count": 63,
   "metadata": {
    "collapsed": false,
    "jupyter": {
     "outputs_hidden": false
    },
    "pycharm": {
     "name": "#%%\n"
    }
   },
   "outputs": [
    {
     "name": "stdout",
     "output_type": "stream",
     "text": [
      "x@y:\n"
     ]
    },
    {
     "data": {
      "text/plain": [
       "array([[1., 2.],\n",
       "       [3., 4.]])"
      ]
     },
     "execution_count": 63,
     "metadata": {},
     "output_type": "execute_result"
    }
   ],
   "source": [
    "print(\"x@y:\")\n",
    "x @ y"
   ]
  },
  {
   "cell_type": "markdown",
   "metadata": {},
   "source": [
    "## Exercise 2\n"
   ]
  },
  {
   "cell_type": "code",
   "execution_count": 64,
   "metadata": {
    "collapsed": false,
    "jupyter": {
     "outputs_hidden": false
    }
   },
   "outputs": [
    {
     "name": "stdout",
     "output_type": "stream",
     "text": [
      "u+b:\n",
      "[[ 4.  4.  5.  6.  8. 11.]\n",
      " [ 3.  3.  4.  5.  7. 10.]]\n",
      "u+d:\n",
      "[[ 4.  4.  5.  6.  8. 11.]\n",
      " [ 3.  3.  4.  5.  7. 10.]\n",
      " [ 2.  2.  3.  4.  6.  9.]\n",
      " [ 1.  1.  2.  3.  5.  8.]]\n",
      "v+a:\n",
      "[[ 4.  3.]\n",
      " [ 4.  3.]\n",
      " [ 5.  4.]\n",
      " [ 6.  5.]\n",
      " [ 8.  7.]\n",
      " [11. 10.]]\n",
      "v+c:\n",
      "[[ 4.  3.  2.  1.]\n",
      " [ 4.  3.  2.  1.]\n",
      " [ 5.  4.  3.  2.]\n",
      " [ 6.  5.  4.  3.]\n",
      " [ 8.  7.  6.  5.]\n",
      " [11. 10.  9.  8.]]\n",
      "x+a:\n",
      "[[4. 2.]\n",
      " [3. 3.]]\n",
      "x+b:\n",
      "[[4. 3.]\n",
      " [2. 3.]]\n",
      "y+a:\n",
      "[[4. 4.]\n",
      " [6. 6.]]\n",
      "y+b:\n",
      "[[4. 5.]\n",
      " [5. 6.]]\n",
      "z+c:\n",
      "[[4. 4. 2. 2.]\n",
      " [6. 6. 4. 4.]\n",
      " [4. 4. 2. 3.]]\n",
      "w+c:\n",
      "[[4. 2. 2. 0.]\n",
      " [3. 3. 1. 1.]\n",
      " [4. 4. 2. 2.]\n",
      " [6. 6. 4. 4.]]\n",
      "w+d:\n",
      "[[4. 3. 4. 3.]\n",
      " [2. 3. 2. 3.]\n",
      " [2. 3. 2. 3.]\n",
      " [3. 4. 3. 4.]]\n"
     ]
    }
   ],
   "source": [
    "u = array([1.0, 1, 2, 3, 5, 8])\n",
    "v = array([[1.0], [1], [2], [3], [5], [8]])\n",
    "x = array([[1.0, 0], [0, 1]])\n",
    "y = array([[1.0, 2], [3, 4]])\n",
    "z = array([[1.0, 2, 1, 2], [3, 4, 3, 4], [1, 2, 1, 3]])\n",
    "w = array([[1.0, 0, 1, 0], [0, 1, 0, 1], [1, 2, 1, 2], [3, 4, 3, 4]])\n",
    "a = array([3.0, 2])\n",
    "b = array([[3.0], [2]])\n",
    "c = array([3.0, 2, 1, 0])\n",
    "d = array([[3.0], [2], [1], [0]])\n",
    "print(\"u+b:\")\n",
    "print(u + b)\n",
    "print(\"u+d:\")\n",
    "print(u + d)\n",
    "print(\"v+a:\")\n",
    "print(v + a)\n",
    "print(\"v+c:\")\n",
    "print(v + c)\n",
    "print(\"x+a:\")\n",
    "print(x + a)\n",
    "print(\"x+b:\")\n",
    "print(x + b)\n",
    "print(\"y+a:\")\n",
    "print(y + a)\n",
    "print(\"y+b:\")\n",
    "print(y + b)\n",
    "print(\"z+c:\")\n",
    "print(z + c)\n",
    "print(\"w+c:\")\n",
    "print(w + c)\n",
    "print(\"w+d:\")\n",
    "print(w + d)"
   ]
  },
  {
   "cell_type": "markdown",
   "metadata": {},
   "source": [
    "## Exercise 3\n"
   ]
  },
  {
   "cell_type": "code",
   "execution_count": 65,
   "metadata": {
    "collapsed": false,
    "jupyter": {
     "outputs_hidden": false
    }
   },
   "outputs": [
    {
     "name": "stdout",
     "output_type": "stream",
     "text": [
      "x/1.0:\n",
      "[[1. 0.]\n",
      " [0. 1.]]\n",
      "1.0/x:\n",
      "[[ 1. inf]\n",
      " [inf  1.]]\n"
     ]
    },
    {
     "name": "stderr",
     "output_type": "stream",
     "text": [
      "C:\\Users\\kevin\\AppData\\Local\\Temp/ipykernel_36968/1622983613.py:4: RuntimeWarning: divide by zero encountered in true_divide\n",
      "  print(1.0 / x)\n"
     ]
    }
   ],
   "source": [
    "print(\"x/1.0:\")\n",
    "print(x / 1.0)\n",
    "print(\"1.0/x:\")\n",
    "print(1.0 / x)"
   ]
  },
  {
   "cell_type": "markdown",
   "metadata": {
    "pycharm": {
     "name": "#%% md\n"
    }
   },
   "source": [
    "## Exercise 4\n",
    "\n",
    "These are the same since these are jsut element-by-element.  The bottom shows\n",
    "how to do the same using linear algebra."
   ]
  },
  {
   "cell_type": "code",
   "execution_count": 66,
   "metadata": {
    "collapsed": false,
    "jupyter": {
     "outputs_hidden": false
    },
    "pycharm": {
     "name": "#%%\n"
    }
   },
   "outputs": [
    {
     "data": {
      "text/plain": [
       "array([[ 4.,  4.],\n",
       "       [ 9., 25.]])"
      ]
     },
     "execution_count": 66,
     "metadata": {},
     "output_type": "execute_result"
    }
   ],
   "source": [
    "(x + y) ** 2"
   ]
  },
  {
   "cell_type": "code",
   "execution_count": 67,
   "metadata": {
    "collapsed": false,
    "jupyter": {
     "outputs_hidden": false
    },
    "pycharm": {
     "name": "#%%\n"
    }
   },
   "outputs": [
    {
     "data": {
      "text/plain": [
       "array([[ 4.,  4.],\n",
       "       [ 9., 25.]])"
      ]
     },
     "execution_count": 67,
     "metadata": {},
     "output_type": "execute_result"
    }
   ],
   "source": [
    "x ** 2 + x * y + y * x + y ** 2"
   ]
  },
  {
   "cell_type": "code",
   "execution_count": 68,
   "metadata": {
    "collapsed": false,
    "jupyter": {
     "outputs_hidden": false
    },
    "pycharm": {
     "name": "#%%\n"
    }
   },
   "outputs": [
    {
     "data": {
      "text/plain": [
       "array([[10., 14.],\n",
       "       [21., 31.]])"
      ]
     },
     "execution_count": 68,
     "metadata": {},
     "output_type": "execute_result"
    }
   ],
   "source": [
    "(x + y) @ (x + y)"
   ]
  },
  {
   "cell_type": "code",
   "execution_count": 69,
   "metadata": {
    "collapsed": false,
    "jupyter": {
     "outputs_hidden": false
    },
    "pycharm": {
     "name": "#%%\n"
    }
   },
   "outputs": [
    {
     "data": {
      "text/plain": [
       "array([[10., 14.],\n",
       "       [21., 31.]])"
      ]
     },
     "execution_count": 69,
     "metadata": {},
     "output_type": "execute_result"
    }
   ],
   "source": [
    "x @ x + x @ y + y @ x + y @ y"
   ]
  },
  {
   "cell_type": "markdown",
   "metadata": {},
   "source": [
    "## Exercise 5\n"
   ]
  },
  {
   "cell_type": "code",
   "execution_count": 70,
   "metadata": {
    "collapsed": false,
    "jupyter": {
     "outputs_hidden": false
    }
   },
   "outputs": [
    {
     "data": {
      "text/plain": [
       "array([[ 4.,  4.],\n",
       "       [ 9., 25.]])"
      ]
     },
     "execution_count": 70,
     "metadata": {},
     "output_type": "execute_result"
    }
   ],
   "source": [
    "x ** 2 + 2 * x * y + y ** 2"
   ]
  },
  {
   "cell_type": "code",
   "execution_count": 71,
   "metadata": {
    "collapsed": false,
    "jupyter": {
     "outputs_hidden": false
    },
    "pycharm": {
     "name": "#%%\n"
    }
   },
   "outputs": [
    {
     "data": {
      "text/plain": [
       "array([[10., 14.],\n",
       "       [21., 31.]])"
      ]
     },
     "execution_count": 71,
     "metadata": {},
     "output_type": "execute_result"
    }
   ],
   "source": [
    "x @ x + 2 * x @ y + y @ y"
   ]
  },
  {
   "cell_type": "markdown",
   "metadata": {},
   "source": [
    "## Exercise 6\n"
   ]
  },
  {
   "cell_type": "code",
   "execution_count": 72,
   "metadata": {
    "collapsed": false,
    "jupyter": {
     "outputs_hidden": false
    }
   },
   "outputs": [],
   "source": [
    "a = arange(3.0)\n",
    "b = a\n",
    "c = a"
   ]
  },
  {
   "cell_type": "code",
   "execution_count": 73,
   "metadata": {
    "collapsed": false,
    "jupyter": {
     "outputs_hidden": false
    },
    "pycharm": {
     "name": "#%%\n"
    }
   },
   "outputs": [
    {
     "name": "stdout",
     "output_type": "stream",
     "text": [
      "a*b + a*c:\n"
     ]
    },
    {
     "data": {
      "text/plain": [
       "array([0., 2., 8.])"
      ]
     },
     "execution_count": 73,
     "metadata": {},
     "output_type": "execute_result"
    }
   ],
   "source": [
    "print(\"a*b + a*c:\")\n",
    "a * b + a * c"
   ]
  },
  {
   "cell_type": "code",
   "execution_count": 74,
   "metadata": {
    "collapsed": false,
    "jupyter": {
     "outputs_hidden": false
    },
    "pycharm": {
     "name": "#%%\n"
    }
   },
   "outputs": [
    {
     "name": "stdout",
     "output_type": "stream",
     "text": [
      "a*b + c:\n"
     ]
    },
    {
     "data": {
      "text/plain": [
       "array([0., 2., 6.])"
      ]
     },
     "execution_count": 74,
     "metadata": {},
     "output_type": "execute_result"
    }
   ],
   "source": [
    "print(\"a*b + c:\")\n",
    "a * b + c"
   ]
  },
  {
   "cell_type": "code",
   "execution_count": 75,
   "metadata": {
    "collapsed": false,
    "jupyter": {
     "outputs_hidden": false
    },
    "pycharm": {
     "name": "#%%\n"
    }
   },
   "outputs": [
    {
     "name": "stdout",
     "output_type": "stream",
     "text": [
      "a*(b+c):\n"
     ]
    },
    {
     "data": {
      "text/plain": [
       "array([0., 2., 8.])"
      ]
     },
     "execution_count": 75,
     "metadata": {},
     "output_type": "execute_result"
    }
   ],
   "source": [
    "print(\"a*(b+c):\")\n",
    "a * (b + c)"
   ]
  },
  {
   "cell_type": "markdown",
   "metadata": {
    "pycharm": {
     "name": "#%% md\n"
    }
   },
   "source": [
    "Also works for `@`"
   ]
  },
  {
   "cell_type": "code",
   "execution_count": 76,
   "metadata": {
    "collapsed": false,
    "jupyter": {
     "outputs_hidden": false
    },
    "pycharm": {
     "name": "#%%\n"
    }
   },
   "outputs": [
    {
     "name": "stdout",
     "output_type": "stream",
     "text": [
      "a*b + a*c:\n"
     ]
    },
    {
     "data": {
      "text/plain": [
       "10.0"
      ]
     },
     "execution_count": 76,
     "metadata": {},
     "output_type": "execute_result"
    }
   ],
   "source": [
    "print(\"a*b + a*c:\")\n",
    "a @ b + a @ c"
   ]
  },
  {
   "cell_type": "code",
   "execution_count": 77,
   "metadata": {
    "collapsed": false,
    "jupyter": {
     "outputs_hidden": false
    },
    "pycharm": {
     "name": "#%%\n"
    }
   },
   "outputs": [
    {
     "name": "stdout",
     "output_type": "stream",
     "text": [
      "a*b + c:\n"
     ]
    },
    {
     "data": {
      "text/plain": [
       "array([5., 6., 7.])"
      ]
     },
     "execution_count": 77,
     "metadata": {},
     "output_type": "execute_result"
    }
   ],
   "source": [
    "print(\"a*b + c:\")\n",
    "a @ b + c"
   ]
  },
  {
   "cell_type": "code",
   "execution_count": 78,
   "metadata": {
    "collapsed": false,
    "jupyter": {
     "outputs_hidden": false
    },
    "pycharm": {
     "name": "#%%\n"
    }
   },
   "outputs": [
    {
     "name": "stdout",
     "output_type": "stream",
     "text": [
      "a*(b+c):\n"
     ]
    },
    {
     "data": {
      "text/plain": [
       "10.0"
      ]
     },
     "execution_count": 78,
     "metadata": {},
     "output_type": "execute_result"
    }
   ],
   "source": [
    "print(\"a*(b+c):\")\n",
    "a @ (b + c)"
   ]
  },
  {
   "cell_type": "markdown",
   "metadata": {},
   "source": [
    "## Exercise 7\n",
    "\n",
    "If `x` is array, `y` must be broadcastable with `x`, \n",
    "\n",
    "`w` must be broadcastable with (`x**y`)\n",
    "\n",
    "`z` must be broadcastable with (`(x**y)*w`)\n"
   ]
  },
  {
   "cell_type": "markdown",
   "metadata": {},
   "source": [
    "## Exercise 10\n"
   ]
  },
  {
   "cell_type": "code",
   "execution_count": 79,
   "metadata": {
    "collapsed": false,
    "jupyter": {
     "outputs_hidden": false
    },
    "pycharm": {
     "name": "#%%\n"
    }
   },
   "outputs": [
    {
     "name": "stdout",
     "output_type": "stream",
     "text": [
      "-2**4:\n"
     ]
    },
    {
     "data": {
      "text/plain": [
       "-16"
      ]
     },
     "execution_count": 79,
     "metadata": {},
     "output_type": "execute_result"
    }
   ],
   "source": [
    "print(\"-2**4:\")\n",
    "-(2 ** 4)"
   ]
  },
  {
   "cell_type": "code",
   "execution_count": 80,
   "metadata": {
    "collapsed": false,
    "jupyter": {
     "outputs_hidden": false
    },
    "pycharm": {
     "name": "#%%\n"
    }
   },
   "outputs": [
    {
     "name": "stdout",
     "output_type": "stream",
     "text": [
      "(-2)**4:\n"
     ]
    },
    {
     "data": {
      "text/plain": [
       "16"
      ]
     },
     "execution_count": 80,
     "metadata": {},
     "output_type": "execute_result"
    }
   ],
   "source": [
    "print(\"(-2)**4:\")\n",
    "(-2) ** 4"
   ]
  },
  {
   "cell_type": "code",
   "execution_count": 81,
   "metadata": {
    "collapsed": false,
    "jupyter": {
     "outputs_hidden": false
    },
    "pycharm": {
     "name": "#%%\n"
    }
   },
   "outputs": [
    {
     "name": "stdout",
     "output_type": "stream",
     "text": [
      "-2*-2*-2*-2:\n"
     ]
    },
    {
     "data": {
      "text/plain": [
       "16"
      ]
     },
     "execution_count": 81,
     "metadata": {},
     "output_type": "execute_result"
    }
   ],
   "source": [
    "print(\"-2*-2*-2*-2:\")\n",
    "-2 * -2 * -2 * -2"
   ]
  }
 ],
 "metadata": {
  "kernelspec": {
   "display_name": "Python 3 (ipykernel)",
   "language": "python",
   "name": "python3"
  },
  "language_info": {
   "codemirror_mode": {
    "name": "ipython",
    "version": 3
   },
   "file_extension": ".py",
   "mimetype": "text/x-python",
   "name": "python",
   "nbconvert_exporter": "python",
   "pygments_lexer": "ipython3",
   "version": "3.9.6"
  }
 },
 "nbformat": 4,
 "nbformat_minor": 4
}
